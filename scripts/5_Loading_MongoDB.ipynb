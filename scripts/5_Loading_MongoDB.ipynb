{
 "cells": [
  {
   "cell_type": "code",
   "execution_count": 1,
   "id": "76cca1a1",
   "metadata": {},
   "outputs": [
    {
     "name": "stdout",
     "output_type": "stream",
     "text": [
      "Colección 'Visitantes' limpiada.\n",
      "Se insertaron 3000 documentos en MongoDB correctamente.\n",
      "\n",
      "Documento de ejemplo en MongoDB:\n",
      "{'_id': ObjectId('68f24739235788002f4a47d0'), 'id_visitante': 'V0001', 'pais_origen': 'México', 'edad': 65, 'genero': 'M', 'destino': 'Líneas de Nazca', 'region': 'Ica', 'fecha_visita': datetime.datetime(2023, 3, 26, 0, 0), 'dias_estadia': 7, 'gasto_total': 3680.03, 'medio_transporte': 'Bus'}\n"
     ]
    }
   ],
   "source": [
    "import pandas as pd\n",
    "from pymongo import MongoClient\n",
    "from pathlib import Path\n",
    "\n",
    "# Conexión a MongoDB (asegúrate que el servicio esté corriendo)\n",
    "client = MongoClient(\"mongodb://localhost:27017/\")\n",
    "db = client[\"TurismoPeru_2025\"]\n",
    "collection = db[\"Visitantes\"]\n",
    "\n",
    "# Borrar datos existentes para evitar duplicados en cada ejecución\n",
    "collection.delete_many({})\n",
    "print(\"Colección 'Visitantes' limpiada.\")\n",
    "\n",
    "# Leer el archivo limpio\n",
    "clean_file_path = Path.cwd().parent / \"database\" / \"visitantes_clean.csv\"\n",
    "df = pd.read_csv(clean_file_path, parse_dates=['fecha_visita'])\n",
    "\n",
    "# Convertir DataFrame a formato de diccionario para MongoDB\n",
    "data_dict = df.to_dict(orient=\"records\")\n",
    "\n",
    "# Insertar los datos en la colección\n",
    "collection.insert_many(data_dict)\n",
    "\n",
    "print(f\"Se insertaron {collection.count_documents({})} documentos en MongoDB correctamente.\")\n",
    "\n",
    "# Verificar un documento de ejemplo\n",
    "print(\"\\nDocumento de ejemplo en MongoDB:\")\n",
    "print(collection.find_one())"
   ]
  }
 ],
 "metadata": {
  "kernelspec": {
   "display_name": "myenv",
   "language": "python",
   "name": "python3"
  },
  "language_info": {
   "codemirror_mode": {
    "name": "ipython",
    "version": 3
   },
   "file_extension": ".py",
   "mimetype": "text/x-python",
   "name": "python",
   "nbconvert_exporter": "python",
   "pygments_lexer": "ipython3",
   "version": "3.13.7"
  }
 },
 "nbformat": 4,
 "nbformat_minor": 5
}
