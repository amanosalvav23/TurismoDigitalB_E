{
 "cells": [
  {
   "cell_type": "code",
   "execution_count": 1,
   "id": "1885b5c8",
   "metadata": {},
   "outputs": [
    {
     "name": "stdout",
     "output_type": "stream",
     "text": [
      "Datos cargados. Filas iniciales: 3050\n",
      "\n",
      "Valores nulos ANTES de la limpieza:\n",
      "id_visitante          0\n",
      "pais_origen           0\n",
      "edad                  0\n",
      "genero                0\n",
      "destino               0\n",
      "region                0\n",
      "fecha_visita          0\n",
      "dias_estadia          0\n",
      "gasto_total           0\n",
      "medio_transporte    625\n",
      "dtype: int64\n",
      "\n",
      "Filas después de eliminar duplicados: 3000\n",
      "\n",
      "Valores nulos DESPUÉS de la limpieza:\n",
      "id_visitante        0\n",
      "pais_origen         0\n",
      "edad                0\n",
      "genero              0\n",
      "destino             0\n",
      "region              0\n",
      "fecha_visita        0\n",
      "dias_estadia        0\n",
      "gasto_total         0\n",
      "medio_transporte    0\n",
      "dtype: int64\n",
      "\n",
      "Archivo limpio guardado en: /Users/aldairmanosalva/Documents/TurismoDigitalB_E/database/visitantes_clean.csv\n"
     ]
    },
    {
     "name": "stderr",
     "output_type": "stream",
     "text": [
      "/var/folders/l0/gw809rqn4v501w_74_g3z8q40000gn/T/ipykernel_36252/2249011500.py:22: FutureWarning: A value is trying to be set on a copy of a DataFrame or Series through chained assignment using an inplace method.\n",
      "The behavior will change in pandas 3.0. This inplace method will never work because the intermediate object on which we are setting values always behaves as a copy.\n",
      "\n",
      "For example, when doing 'df[col].method(value, inplace=True)', try using 'df.method({col: value}, inplace=True)' or df[col] = df[col].method(value) instead, to perform the operation inplace on the original object.\n",
      "\n",
      "\n",
      "  df['medio_transporte'].fillna(mode_transporte, inplace=True)\n"
     ]
    }
   ],
   "source": [
    "import pandas as pd\n",
    "from pathlib import Path\n",
    "\n",
    "# Definir rutas\n",
    "base_path = Path.cwd().parent\n",
    "input_file = base_path / \"data\" / \"visitantes.csv\"\n",
    "output_file = base_path / \"database\" / \"visitantes_clean.csv\"\n",
    "\n",
    "# Leer el CSV\n",
    "df = pd.read_csv(input_file)\n",
    "print(f\"Datos cargados. Filas iniciales: {len(df)}\")\n",
    "print(\"\\nValores nulos ANTES de la limpieza:\")\n",
    "print(df.isnull().sum())\n",
    "\n",
    "# 1. Eliminar duplicados\n",
    "df.drop_duplicates(inplace=True)\n",
    "print(f\"\\nFilas después de eliminar duplicados: {len(df)}\")\n",
    "\n",
    "# 2. Rellenar valores nulos\n",
    "# Para 'medio_transporte', usamos el valor más común (moda)\n",
    "mode_transporte = df['medio_transporte'].mode()[0]\n",
    "df['medio_transporte'].fillna(mode_transporte, inplace=True)\n",
    "\n",
    "# 3. Formatear fechas\n",
    "df['fecha_visita'] = pd.to_datetime(df['fecha_visita'])\n",
    "\n",
    "# 4. Validar tipos de datos (Pandas usualmente los infiere bien, pero es buena práctica)\n",
    "df['edad'] = df['edad'].astype(int)\n",
    "df['dias_estadia'] = df['dias_estadia'].astype(int)\n",
    "df['gasto_total'] = df['gasto_total'].astype(float)\n",
    "\n",
    "print(\"\\nValores nulos DESPUÉS de la limpieza:\")\n",
    "print(df.isnull().sum())\n",
    "\n",
    "# Guardar el archivo limpio\n",
    "df.to_csv(output_file, index=False, encoding=\"utf-8\")\n",
    "print(f\"\\nArchivo limpio guardado en: {output_file}\")"
   ]
  }
 ],
 "metadata": {
  "kernelspec": {
   "display_name": "myenv",
   "language": "python",
   "name": "python3"
  },
  "language_info": {
   "codemirror_mode": {
    "name": "ipython",
    "version": 3
   },
   "file_extension": ".py",
   "mimetype": "text/x-python",
   "name": "python",
   "nbconvert_exporter": "python",
   "pygments_lexer": "ipython3",
   "version": "3.13.7"
  }
 },
 "nbformat": 4,
 "nbformat_minor": 5
}
