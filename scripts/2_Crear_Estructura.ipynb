{
 "cells": [
  {
   "cell_type": "code",
   "execution_count": 1,
   "id": "30b37a38",
   "metadata": {},
   "outputs": [
    {
     "name": "stdout",
     "output_type": "stream",
     "text": [
      "Archivo 'base.csv' creado correctamente en: /Users/aldairmanosalva/Documents/TurismoDigitalB_E/data/base.csv\n"
     ]
    }
   ],
   "source": [
    "from pathlib import Path\n",
    "\n",
    "# Ruta a la carpeta 'data'\n",
    "data_path = Path.cwd().parent / \"data\"\n",
    "\n",
    "# Crear archivo CSV base con las columnas requeridas\n",
    "base_csv_path = data_path / \"base.csv\"\n",
    "headers = \"id_visitante,pais_origen,edad,genero,destino,region,fecha_visita,dias_estadia,gasto_total,medio_transporte\\n\"\n",
    "\n",
    "if not base_csv_path.exists():\n",
    "    with open(base_csv_path, \"w\", encoding=\"utf-8\") as f:\n",
    "        f.write(headers)\n",
    "    print(f\"Archivo 'base.csv' creado correctamente en: {base_csv_path}\")\n",
    "else:\n",
    "    print(f\"El archivo 'base.csv' ya existe.\")"
   ]
  }
 ],
 "metadata": {
  "kernelspec": {
   "display_name": "myenv",
   "language": "python",
   "name": "python3"
  },
  "language_info": {
   "codemirror_mode": {
    "name": "ipython",
    "version": 3
   },
   "file_extension": ".py",
   "mimetype": "text/x-python",
   "name": "python",
   "nbconvert_exporter": "python",
   "pygments_lexer": "ipython3",
   "version": "3.13.7"
  }
 },
 "nbformat": 4,
 "nbformat_minor": 5
}
