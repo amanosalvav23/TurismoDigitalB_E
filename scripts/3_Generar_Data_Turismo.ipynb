{
 "cells": [
  {
   "cell_type": "code",
   "execution_count": 1,
   "id": "c98f35b8",
   "metadata": {},
   "outputs": [
    {
     "name": "stdout",
     "output_type": "stream",
     "text": [
      "Archivo 'visitantes.csv' generado con 3050 registros en: /Users/aldairmanosalva/Documents/TurismoDigitalB_E/data/visitantes.csv\n"
     ]
    }
   ],
   "source": [
    "from pathlib import Path\n",
    "import csv\n",
    "import random\n",
    "from datetime import datetime, timedelta\n",
    "import numpy as np\n",
    "\n",
    "# Ruta de la carpeta de datos\n",
    "data_path = Path.cwd().parent / \"data\"\n",
    "csv_file = data_path / \"visitantes.csv\"\n",
    "\n",
    "# Datos base para la simulación\n",
    "paises = [\"Perú\", \"Chile\", \"Argentina\", \"Colombia\", \"EE.UU.\", \"España\", \"Brasil\", \"México\", \"Francia\", \"Alemania\"]\n",
    "regiones_destinos = {\n",
    "    \"Cusco\": [\"Machu Picchu\", \"Valle Sagrado\", \"Montaña 7 Colores\"],\n",
    "    \"Puno\": [\"Lago Titicaca\", \"Islas Uros\", \"Sillustani\"],\n",
    "    \"Arequipa\": [\"Cañón del Colca\", \"Monasterio de Santa Catalina\", \"Plaza de Armas\"],\n",
    "    \"Lima\": [\"Centro Histórico\", \"Miraflores\", \"Barranco\"],\n",
    "    \"Ica\": [\"Líneas de Nazca\", \"Huacachina\", \"Islas Ballestas\"]\n",
    "}\n",
    "transportes = [\"Avión\", \"Bus\", \"Auto\", \"Tren\", np.nan] # Incluimos nulos\n",
    "\n",
    "# Función para generar fechas aleatorias\n",
    "def generar_fecha():\n",
    "    start_date = datetime(2023, 1, 1)\n",
    "    end_date = datetime(2025, 10, 1)\n",
    "    delta = end_date - start_date\n",
    "    random_days = random.randint(0, delta.days)\n",
    "    return start_date + timedelta(days=random_days)\n",
    "\n",
    "# Generar 3000 registros\n",
    "registros = []\n",
    "for i in range(1, 3001):\n",
    "    id_visitante = f\"V{str(i).zfill(4)}\"\n",
    "    pais_origen = random.choices(paises, weights=[0.4, 0.1, 0.05, 0.05, 0.1, 0.1, 0.05, 0.05, 0.025, 0.025], k=1)[0]\n",
    "    edad = random.randint(18, 70)\n",
    "    genero = random.choice([\"M\", \"F\"])\n",
    "    region = random.choice(list(regiones_destinos.keys()))\n",
    "    destino = random.choice(regiones_destinos[region])\n",
    "    fecha_visita = generar_fecha()\n",
    "    dias_estadia = random.randint(1, 15)\n",
    "    gasto_total = round(random.uniform(200, 3000) * (1 if pais_origen == \"Perú\" else 1.5), 2)\n",
    "    medio_transporte = random.choice(transportes)\n",
    "\n",
    "    registros.append([\n",
    "        id_visitante, pais_origen, edad, genero, destino, region,\n",
    "        fecha_visita.strftime(\"%Y-%m-%d\"), dias_estadia, gasto_total, medio_transporte\n",
    "    ])\n",
    "\n",
    "# Añadir algunos duplicados para limpiar después\n",
    "for _ in range(50):\n",
    "    registros.append(random.choice(registros))\n",
    "\n",
    "# Escribir en el archivo CSV\n",
    "headers = [\"id_visitante\", \"pais_origen\", \"edad\", \"genero\", \"destino\", \"region\", \"fecha_visita\", \"dias_estadia\", \"gasto_total\", \"medio_transporte\"]\n",
    "with open(csv_file, mode=\"w\", newline=\"\", encoding=\"utf-8\") as file:\n",
    "    writer = csv.writer(file)\n",
    "    writer.writerow(headers)\n",
    "    writer.writerows(registros)\n",
    "\n",
    "print(f\"Archivo 'visitantes.csv' generado con {len(registros)} registros en: {csv_file}\")"
   ]
  }
 ],
 "metadata": {
  "kernelspec": {
   "display_name": "myenv",
   "language": "python",
   "name": "python3"
  },
  "language_info": {
   "codemirror_mode": {
    "name": "ipython",
    "version": 3
   },
   "file_extension": ".py",
   "mimetype": "text/x-python",
   "name": "python",
   "nbconvert_exporter": "python",
   "pygments_lexer": "ipython3",
   "version": "3.13.7"
  }
 },
 "nbformat": 4,
 "nbformat_minor": 5
}
